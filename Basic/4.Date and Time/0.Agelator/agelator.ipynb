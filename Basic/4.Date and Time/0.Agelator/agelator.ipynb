{
 "cells": [
  {
   "cell_type": "code",
   "execution_count": null,
   "id": "initial_id",
   "metadata": {
    "collapsed": true
   },
   "outputs": [],
   "source": [
    "import datetime\n",
    "import os\n",
    "import sys\n",
    "from time import sleep\n",
    "from typing import Union, Tuple, Optional"
   ]
  },
  {
   "metadata": {},
   "cell_type": "code",
   "outputs": [],
   "execution_count": null,
   "source": [
    "def clear_terminal():\n",
    "    \"\"\"Clear the terminal screen.\"\"\"\n",
    "    os.system('cls' if os.name == 'nt' else 'clear')"
   ],
   "id": "317d257096c24401"
  },
  {
   "metadata": {},
   "cell_type": "code",
   "outputs": [],
   "execution_count": null,
   "source": [
    "def find_next_birthday_day(month: int, day: int):\n",
    "    \"\"\"Find the day of the week for the next birthday.\"\"\"\n",
    "    today = datetime.date.today()\n",
    "    next_birthday = datetime.date(today.year, month, day)\n",
    "\n",
    "    if next_birthday < today:\n",
    "        next_birthday = next_birthday.replace(year=today.year + 1)\n",
    "\n",
    "    print(f\"Your next birthday is on a {next_birthday.strftime('%A')}.\")"
   ],
   "id": "900b043f1176b4ab"
  },
  {
   "metadata": {},
   "cell_type": "code",
   "outputs": [],
   "execution_count": null,
   "source": [
    "def determine_age(year: int):\n",
    "    \"\"\"Determine the age of the user based on the birth year.\"\"\"\n",
    "    this_year = datetime.date.today().year\n",
    "    age = this_year - year\n",
    "    print(f\"You are {age} years old.\")"
   ],
   "id": "ddac9898f433c36e"
  },
  {
   "metadata": {},
   "cell_type": "code",
   "outputs": [],
   "execution_count": null,
   "source": [
    "def determine_zodiac(month: int, day: int):\n",
    "    \"\"\"Determine the zodiac sign of the user.\"\"\"\n",
    "    zodiac_chart = {\n",
    "        \"Aries\": (datetime.date(2000, 3, 21), datetime.date(2000, 4, 19)),\n",
    "        \"Taurus\": (datetime.date(2000, 4, 20), datetime.date(2000, 5, 20)),\n",
    "        \"Gemini\": (datetime.date(2000, 5, 21), datetime.date(2000, 6, 20)),\n",
    "        \"Cancer\": (datetime.date(2000, 6, 21), datetime.date(2000, 7, 22)),\n",
    "        \"Leo\": (datetime.date(2000, 7, 23), datetime.date(2000, 8, 22)),\n",
    "        \"Virgo\": (datetime.date(2000, 8, 23), datetime.date(2000, 9, 22)),\n",
    "        \"Libra\": (datetime.date(2000, 9, 23), datetime.date(2000, 10, 22)),\n",
    "        \"Scorpio\": (datetime.date(2000, 10, 23), datetime.date(2000, 11, 21)),\n",
    "        \"Sagittarius\": (datetime.date(2000, 11, 22), datetime.date(2000, 12, 21)),\n",
    "        \"Capricorn\": (datetime.date(2000, 12, 22), datetime.date(2001, 1, 19)),\n",
    "        \"Aquarius\": (datetime.date(2001, 1, 20), datetime.date(2001, 2, 18)),\n",
    "        \"Pisces\": (datetime.date(2001, 2, 19), datetime.date(2001, 3, 20)),\n",
    "    }\n",
    "\n",
    "    birth_date = datetime.date(2000, month, day)\n",
    "    for sign, (start, end) in zodiac_chart.items():\n",
    "        if start <= birth_date <= end:\n",
    "            print(f\"Your zodiac sign is {sign}.\")\n",
    "            return"
   ],
   "id": "bb357546add52647"
  },
  {
   "metadata": {},
   "cell_type": "code",
   "outputs": [],
   "execution_count": null,
   "source": [
    "def retrieve_birthday() -> Optional[Tuple[int, int, int]]:\n",
    "    \"\"\"Prompt the user for their birthday.\"\"\"\n",
    "    try:\n",
    "        birthday = input(\"Enter your birthday [yyyy/mm/dd]: \")\n",
    "        birth_date = datetime.datetime.strptime(birthday, \"%Y/%m/%d\")\n",
    "        return birth_date.year, birth_date.month, birth_date.day\n",
    "    except ValueError:\n",
    "        print(\"Invalid date format. Please use yyyy/mm/dd.\")\n",
    "        return None"
   ],
   "id": "3c128c5c2a65bbe3"
  },
  {
   "metadata": {},
   "cell_type": "code",
   "outputs": [],
   "execution_count": null,
   "source": [
    "def option() -> Optional[str]:\n",
    "    \"\"\"Display and retrieve the user's menu option.\"\"\"\n",
    "    options = [\"Determine Age\", \"Determine Zodiac\", \"Determine Next Birthday\", \"Quit\"]\n",
    "    print(\"\\n__Options__\")\n",
    "    for i, opt in enumerate(options, 1):\n",
    "        print(f\"[{i}] {opt}\")\n",
    "\n",
    "    try:\n",
    "        selection = int(input(f\"Enter your selection [1-{len(options)}]: \"))\n",
    "        if 1 <= selection <= len(options):\n",
    "            return options[selection - 1]\n",
    "    except ValueError:\n",
    "        pass\n",
    "\n",
    "    print(\"Invalid selection. Please try again.\")\n",
    "    return None"
   ],
   "id": "e6b29baedd05ee04"
  },
  {
   "metadata": {},
   "cell_type": "code",
   "outputs": [],
   "execution_count": null,
   "source": [
    "def main():\n",
    "    \"\"\"Main function to run the program.\"\"\"\n",
    "    print(\"__Agelator__\\n\")\n",
    "\n",
    "    while True:\n",
    "        clear_terminal()\n",
    "        choice = option()\n",
    "        if choice == \"Quit\":\n",
    "            print(\"Goodbye!\")\n",
    "            break\n",
    "\n",
    "        birthday = retrieve_birthday()\n",
    "        if not birthday:\n",
    "            continue\n",
    "\n",
    "        year, month, day = birthday\n",
    "        if choice == \"Determine Age\":\n",
    "            determine_age(year)\n",
    "        elif choice == \"Determine Zodiac\":\n",
    "            determine_zodiac(month, day)\n",
    "        elif choice == \"Determine Next Birthday\":\n",
    "            find_next_birthday_day(month, day)\n",
    "\n",
    "        sleep(2)\n",
    "\n",
    "\n",
    "if __name__ == \"__main__\":\n",
    "    main()"
   ],
   "id": "8893b5a4f37c96fc"
  }
 ],
 "metadata": {
  "kernelspec": {
   "display_name": "Python 3",
   "language": "python",
   "name": "python3"
  },
  "language_info": {
   "codemirror_mode": {
    "name": "ipython",
    "version": 2
   },
   "file_extension": ".py",
   "mimetype": "text/x-python",
   "name": "python",
   "nbconvert_exporter": "python",
   "pygments_lexer": "ipython2",
   "version": "2.7.6"
  }
 },
 "nbformat": 4,
 "nbformat_minor": 5
}
