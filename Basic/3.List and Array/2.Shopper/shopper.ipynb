{
 "cells": [
  {
   "metadata": {
    "ExecuteTime": {
     "end_time": "2025-01-16T00:41:39.930972Z",
     "start_time": "2025-01-16T00:41:39.919766Z"
    }
   },
   "cell_type": "code",
   "source": [
    "def options():\n",
    "    \"\"\n",
    "    try:\n",
    "        option = [\"Add Item\", \"Calculate Total\", \"Apply Discount\"]\n",
    "        print(\"__Options__\\n\")\n",
    "        \n",
    "        for key,opt in enumerate(option,start=1):\n",
    "            print(f\"[{key}]. {opt}\")\n",
    "            \n",
    "        selection = int(input(\"Select an option: \"))\n",
    "        \n",
    "        if 0 > selection > len(option):\n",
    "            raise ValueError(\"Illegal selection\")\n",
    "        else:\n",
    "            return option[selection-1]\n",
    "        \n",
    "    except ValueError as error:\n",
    "        print(f\"Error 404 - Not Found: {error}\")"
   ],
   "id": "8cb96c64d5a719da",
   "outputs": [],
   "execution_count": 1
  },
  {
   "metadata": {},
   "cell_type": "markdown",
   "source": "",
   "id": "95c21117d1188888"
  },
  {
   "metadata": {
    "ExecuteTime": {
     "end_time": "2025-01-16T00:57:27.229168Z",
     "start_time": "2025-01-16T00:57:27.144611Z"
    }
   },
   "cell_type": "code",
   "source": [
    "def add_item(shopping_list):\n",
    "    try:\n",
    "        existing_items = list(shopping_list.keys())\n",
    "        \n",
    "        item_name = input(\"Enter item's name: \")\n",
    "        item_price = float(input(\"Enter item's price: \")) \n",
    "        item_count = int(input(\"Enter number of items: \"))\n",
    "        \n",
    "        if item_name not in existing_items:\n",
    "            subtotal = item_price * item_count\n",
    "            shopping_list[item_name] = {\n",
    "                \"Count\" : item_count,\n",
    "                \"Price\" : item_price,\n",
    "                \"SubTotal\" : subtotal\n",
    "            } \n",
    "        else:\n",
    "            current_subtotal = shopping_list[item_name][\"SubTotal\"]\n",
    "            current_price = shopping_list[item_name][\"Price\"]\n",
    "            current_count = shopping_list[item_name][\"Count\"]\n",
    "            new_count = current_count + item_count\n",
    "            new_price = current_price + item_price\n",
    "            new_subtotal = (new_price * new_count) + current_subtotal\n",
    "            \n",
    "            del shopping_list[item_name]\n",
    "            shopping_list[item_name] = {\n",
    "                \"Count\" : new_count,\n",
    "                \"Price\" : new_price,\n",
    "                \"SubTotal\" : new_subtotal\n",
    "            }\n",
    "        \n",
    "    except ValueError as error:\n",
    "        print(f\"Error 404 - Not Found: {error}\")"
   ],
   "id": "20b947e0f2f0f4ac",
   "outputs": [],
   "execution_count": 2
  },
  {
   "metadata": {},
   "cell_type": "markdown",
   "source": "",
   "id": "fc8a43835af7ddf"
  },
  {
   "metadata": {},
   "cell_type": "code",
   "outputs": [],
   "execution_count": null,
   "source": [
    "def calculate_total(shopping_list):\n",
    "    pass"
   ],
   "id": "edc33293a6c3f579"
  }
 ],
 "metadata": {
  "kernelspec": {
   "display_name": "Python 3",
   "language": "python",
   "name": "python3"
  },
  "language_info": {
   "codemirror_mode": {
    "name": "ipython",
    "version": 2
   },
   "file_extension": ".py",
   "mimetype": "text/x-python",
   "name": "python",
   "nbconvert_exporter": "python",
   "pygments_lexer": "ipython2",
   "version": "2.7.6"
  }
 },
 "nbformat": 4,
 "nbformat_minor": 5
}
