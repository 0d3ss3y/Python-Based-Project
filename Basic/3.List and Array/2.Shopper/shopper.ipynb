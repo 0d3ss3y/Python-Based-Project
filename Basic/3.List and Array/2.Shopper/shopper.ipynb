{
 "cells": [
  {
   "metadata": {
    "ExecuteTime": {
     "end_time": "2025-01-16T01:09:08.387772Z",
     "start_time": "2025-01-16T01:09:08.011478Z"
    }
   },
   "cell_type": "code",
   "source": [
    "import random\n",
    "\n",
    "def options():\n",
    "    \"\"\n",
    "    try:\n",
    "        option = [\"Add Item\", \"Calculate Total\", \"Apply Discount\",\"Display List\"]\n",
    "        print(\"__Options__\\n\")\n",
    "        \n",
    "        for key,opt in enumerate(option,start=1):\n",
    "            print(f\"[{key}]. {opt}\")\n",
    "            \n",
    "        selection = int(input(\"Select an option: \"))\n",
    "        \n",
    "        if 0 > selection > len(option):\n",
    "            raise ValueError(\"Illegal selection\")\n",
    "        else:\n",
    "            return option[selection-1]\n",
    "        \n",
    "    except ValueError as error:\n",
    "        print(f\"Error 404 - Not Found: {error}\")"
   ],
   "id": "8cb96c64d5a719da",
   "outputs": [],
   "execution_count": 4
  },
  {
   "metadata": {},
   "cell_type": "markdown",
   "source": "",
   "id": "95c21117d1188888"
  },
  {
   "metadata": {
    "ExecuteTime": {
     "end_time": "2025-01-16T01:09:10.145674Z",
     "start_time": "2025-01-16T01:09:10.077573Z"
    }
   },
   "cell_type": "code",
   "source": [
    "def add_item(shopping_list):\n",
    "    try:\n",
    "        existing_items = list(shopping_list.keys())\n",
    "        \n",
    "        item_name = input(\"Enter item's name: \")\n",
    "        item_price = float(input(\"Enter item's price: \")) \n",
    "        item_count = int(input(\"Enter number of items: \"))\n",
    "        \n",
    "        if item_name not in existing_items:\n",
    "            subtotal = item_price * item_count\n",
    "            shopping_list[item_name] = {\n",
    "                \"Count\" : item_count,\n",
    "                \"Price\" : item_price,\n",
    "                \"SubTotal\" : subtotal\n",
    "            } \n",
    "        else:\n",
    "            current_subtotal = shopping_list[item_name][\"SubTotal\"]\n",
    "            current_price = shopping_list[item_name][\"Price\"]\n",
    "            current_count = shopping_list[item_name][\"Count\"]\n",
    "            new_count = current_count + item_count\n",
    "            new_price = current_price + item_price\n",
    "            new_subtotal = (new_price * new_count) + current_subtotal\n",
    "            \n",
    "            del shopping_list[item_name]\n",
    "            shopping_list[item_name] = {\n",
    "                \"Count\" : new_count,\n",
    "                \"Price\" : new_price,\n",
    "                \"SubTotal\" : new_subtotal\n",
    "            }\n",
    "        return shopping_list\n",
    "        \n",
    "    except ValueError as error:\n",
    "        print(f\"Error 404 - Not Found: {error}\")\n",
    "        return shopping_list"
   ],
   "id": "20b947e0f2f0f4ac",
   "outputs": [],
   "execution_count": 5
  },
  {
   "metadata": {},
   "cell_type": "markdown",
   "source": "",
   "id": "fc8a43835af7ddf"
  },
  {
   "metadata": {
    "ExecuteTime": {
     "end_time": "2025-01-16T01:09:13.226758Z",
     "start_time": "2025-01-16T01:09:13.204371Z"
    }
   },
   "cell_type": "code",
   "source": [
    "def calculate_total(shopping_list):\n",
    "    total = 0.00\n",
    "    for item in shopping_list:\n",
    "        total = total + shopping_list[item][\"SubTotal\"]\n",
    "    print(f\"Current Total: {total}\")\n",
    "    return total"
   ],
   "id": "edc33293a6c3f579",
   "outputs": [],
   "execution_count": 6
  },
  {
   "metadata": {},
   "cell_type": "markdown",
   "source": "",
   "id": "da8688ef067739d5"
  },
  {
   "metadata": {},
   "cell_type": "code",
   "source": [
    "def apply_discount(total):\n",
    "    discount_percentage = 0.08\n",
    "    store_member = int(input(\"Swipe store card [0,1]: \"))\n",
    "    store_card = False if store_member == 1 else True\n",
    "    \n",
    "    if store_card:\n",
    "        print(\"Lucky Draw\")\n",
    "        random_discount = random.randint(0,10)\n",
    "        \n",
    "        if random_discount == 0:\n",
    "            print(\"Swipe - Lucky Customer Grand Prize Winner\")\n",
    "            total = 0.00\n",
    "            print(f\"Total : {total}\")\n",
    "        else:\n",
    "            discount_percentage = random_discount/100\n",
    "            print(f\"Applying Discount of {discount_percentage}%\")\n",
    "            discount_amount = total * discount_percentage\n",
    "            total = total - discount_amount\n",
    "            print(f\"Total : {total}\")\n",
    "    \n",
    "    else:\n",
    "        print(f\"Applying Discount of {discount_percentage}%\")\n",
    "        discount_amount = total * discount_percentage\n",
    "        total = total - discount_amount\n",
    "        print(f\"Total : {total}\")"
   ],
   "id": "eac36df67914fa1e",
   "outputs": [],
   "execution_count": 7
  },
  {
   "metadata": {},
   "cell_type": "markdown",
   "source": "",
   "id": "67175a9f5a20efe8"
  },
  {
   "metadata": {},
   "cell_type": "code",
   "outputs": [],
   "execution_count": null,
   "source": [
    "def display_shopping_list(shopping_list):\n",
    "    for item in shopping_list.keys():\n",
    "        "
   ],
   "id": "efe10f9ccb39e071"
  },
  {
   "metadata": {},
   "cell_type": "markdown",
   "source": "",
   "id": "64f9465e4117dcf3"
  },
  {
   "metadata": {},
   "cell_type": "code",
   "outputs": [],
   "execution_count": null,
   "source": [
    "def main():\n",
    "    print(\"__Shopping List__\")\n",
    "    total = 0.00\n",
    "    shopping = {\n",
    "        \"Bread\" : {\n",
    "            \"Count\" : 1,\n",
    "            \"Price\" : 13.45,\n",
    "            \"SubTotal\" : 23.9\n",
    "        },\n",
    "        \"Coke\" :{\n",
    "            \"Count\" : 6,\n",
    "            \"Price\" : 23.99,\n",
    "            \"SubTotal\" : 143.94\n",
    "        }\n",
    "    }\n",
    "    \n",
    "    while True:\n",
    "        option = options()\n",
    "\n",
    "        if option == \"Add Item\":\n",
    "            shopping = add_item(shopping)\n",
    "        elif option == \"Calculate Total\":\n",
    "            total = calculate_total(shopping)\n",
    "        elif option == \"Apply Discount\":\n",
    "            apply_discount(total)\n",
    "        else:\n",
    "            display_shopping_list(shopping)\n",
    "        \n",
    "    "
   ],
   "id": "ca35740fabbed385"
  }
 ],
 "metadata": {
  "kernelspec": {
   "display_name": "Python 3",
   "language": "python",
   "name": "python3"
  },
  "language_info": {
   "codemirror_mode": {
    "name": "ipython",
    "version": 2
   },
   "file_extension": ".py",
   "mimetype": "text/x-python",
   "name": "python",
   "nbconvert_exporter": "python",
   "pygments_lexer": "ipython2",
   "version": "2.7.6"
  }
 },
 "nbformat": 4,
 "nbformat_minor": 5
}
