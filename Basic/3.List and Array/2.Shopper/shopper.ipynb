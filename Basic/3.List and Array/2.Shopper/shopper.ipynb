{
 "cells": [
  {
   "metadata": {},
   "cell_type": "code",
   "source": [
    "import random\n",
    "\n",
    "def options():\n",
    "    \"\"\n",
    "    try:\n",
    "        option = [\"Add Item\", \"Calculate Total\", \"Apply Discount\",\"Display List\"]\n",
    "        print(\"__Options__\\n\")\n",
    "        \n",
    "        for key,opt in enumerate(option,start=1):\n",
    "            print(f\"[{key}]. {opt}\")\n",
    "            \n",
    "        selection = int(input(\"Select an option: \"))\n",
    "        \n",
    "        if 0 > selection > len(option):\n",
    "            raise ValueError(\"Illegal selection\")\n",
    "        else:\n",
    "            return option[selection-1]\n",
    "        \n",
    "    except ValueError as error:\n",
    "        print(f\"Error 404 - Not Found: {error}\")"
   ],
   "id": "8cb96c64d5a719da",
   "outputs": [],
   "execution_count": 14
  },
  {
   "metadata": {},
   "cell_type": "markdown",
   "source": "",
   "id": "95c21117d1188888"
  },
  {
   "metadata": {
    "ExecuteTime": {
     "end_time": "2025-01-16T02:13:08.899921Z",
     "start_time": "2025-01-16T02:13:08.869957Z"
    }
   },
   "cell_type": "code",
   "source": [
    "def add_item(shopping_list):\n",
    "    try:\n",
    "        existing_items = list(shopping_list.keys())\n",
    "        \n",
    "        item_name = input(\"Enter item's name: \")\n",
    "        item_price = float(input(\"Enter item's price: \")) \n",
    "        item_count = int(input(\"Enter number of items: \"))\n",
    "        \n",
    "        if item_name not in existing_items:\n",
    "            subtotal = item_price * item_count\n",
    "            shopping_list[item_name] = {\n",
    "                \"Count\" : item_count,\n",
    "                \"Price\" : item_price,\n",
    "                \"SubTotal\" : subtotal\n",
    "            } \n",
    "        else:\n",
    "            current_subtotal = shopping_list[item_name][\"SubTotal\"]\n",
    "            current_price = shopping_list[item_name][\"Price\"]\n",
    "            current_count = shopping_list[item_name][\"Count\"]\n",
    "            new_count = current_count + item_count\n",
    "            new_price = current_price + item_price\n",
    "            new_subtotal = (new_price * new_count) + current_subtotal\n",
    "            \n",
    "            del shopping_list[item_name]\n",
    "            shopping_list[item_name] = {\n",
    "                \"Count\" : new_count,\n",
    "                \"Price\" : new_price,\n",
    "                \"SubTotal\" : new_subtotal\n",
    "            }\n",
    "        return shopping_list\n",
    "        \n",
    "    except ValueError as error:\n",
    "        print(f\"Error 404 - Not Found: {error}\")\n",
    "        return shopping_list"
   ],
   "id": "20b947e0f2f0f4ac",
   "outputs": [],
   "execution_count": 15
  },
  {
   "metadata": {},
   "cell_type": "markdown",
   "source": "",
   "id": "fc8a43835af7ddf"
  },
  {
   "metadata": {
    "ExecuteTime": {
     "end_time": "2025-01-16T02:13:08.960858Z",
     "start_time": "2025-01-16T02:13:08.951955Z"
    }
   },
   "cell_type": "code",
   "source": [
    "def calculate_total(shopping_list):\n",
    "    total = 0.00\n",
    "    for item in shopping_list:\n",
    "        total = total + shopping_list[item][\"SubTotal\"]\n",
    "    print(f\"Current Total: {total}\")\n",
    "    return total"
   ],
   "id": "edc33293a6c3f579",
   "outputs": [],
   "execution_count": 16
  },
  {
   "metadata": {},
   "cell_type": "markdown",
   "source": "",
   "id": "da8688ef067739d5"
  },
  {
   "metadata": {
    "ExecuteTime": {
     "end_time": "2025-01-16T02:13:09.105104Z",
     "start_time": "2025-01-16T02:13:09.084093Z"
    }
   },
   "cell_type": "code",
   "source": [
    "def apply_discount(total):\n",
    "    discount_percentage = 0.08\n",
    "    store_member = int(input(\"Swipe store card [0,1]: \"))\n",
    "    store_card = False if store_member == 1 else True\n",
    "    \n",
    "    if store_card:\n",
    "        print(\"Lucky Draw\")\n",
    "        random_discount = random.randint(0,10)\n",
    "        \n",
    "        if random_discount == 0:\n",
    "            print(\"Swipe - Lucky Customer Grand Prize Winner\")\n",
    "            total = 0.00\n",
    "            print(f\"Total : {total}\")\n",
    "        else:\n",
    "            discount_percentage = random_discount/100\n",
    "            print(f\"Applying Discount of {discount_percentage}%\")\n",
    "            discount_amount = total * discount_percentage\n",
    "            total = total - discount_amount\n",
    "            print(f\"Total : {total}\")\n",
    "    \n",
    "    else:\n",
    "        print(f\"Applying Discount of {discount_percentage}%\")\n",
    "        discount_amount = total * discount_percentage\n",
    "        total = total - discount_amount\n",
    "        print(f\"Total : {total}\")"
   ],
   "id": "eac36df67914fa1e",
   "outputs": [],
   "execution_count": 17
  },
  {
   "metadata": {},
   "cell_type": "markdown",
   "source": "",
   "id": "67175a9f5a20efe8"
  },
  {
   "metadata": {
    "ExecuteTime": {
     "end_time": "2025-01-16T02:13:09.302075Z",
     "start_time": "2025-01-16T02:13:09.294072Z"
    }
   },
   "cell_type": "code",
   "source": [
    "def display_shopping_list(shopping_list):\n",
    "    for key,item in enumerate(shopping_list.keys(),start=1):\n",
    "        item_count = shopping_list[item][\"Count\"]\n",
    "        item_price = shopping_list[item][\"Price\"]\n",
    "        subtotal = shopping_list[item][\"SubTotal\"]\n",
    "        print(f\"[{key}]. {item_count}x {item} per item is {item_price} so {subtotal}\")"
   ],
   "id": "efe10f9ccb39e071",
   "outputs": [],
   "execution_count": 18
  },
  {
   "metadata": {},
   "cell_type": "markdown",
   "source": "",
   "id": "64f9465e4117dcf3"
  },
  {
   "metadata": {
    "ExecuteTime": {
     "end_time": "2025-01-16T03:04:25.706748Z",
     "start_time": "2025-01-16T02:13:09.329336Z"
    }
   },
   "cell_type": "code",
   "source": [
    "def main():\n",
    "    print(\"__Shopping List__\")\n",
    "    total = 0.00\n",
    "    shopping = {\n",
    "        \"Bread\" : {\n",
    "            \"Count\" : 1,\n",
    "            \"Price\" : 13.45,\n",
    "            \"SubTotal\" : 23.9\n",
    "        },\n",
    "        \"Coke\" :{\n",
    "            \"Count\" : 6,\n",
    "            \"Price\" : 23.99,\n",
    "            \"SubTotal\" : 143.94\n",
    "        }\n",
    "    }\n",
    "    \n",
    "    while True:\n",
    "        option = options()\n",
    "\n",
    "        if option == \"Add Item\":\n",
    "            shopping = add_item(shopping)\n",
    "        elif option == \"Calculate Total\":\n",
    "            total = calculate_total(shopping)\n",
    "        elif option == \"Apply Discount\":\n",
    "            apply_discount(total)\n",
    "        else:\n",
    "            display_shopping_list(shopping)\n",
    "        \n",
    "if __name__ == '__main__':\n",
    "    main()"
   ],
   "id": "ca35740fabbed385",
   "outputs": [
    {
     "name": "stdout",
     "output_type": "stream",
     "text": [
      "__Shopping List__\n",
      "__Options__\n",
      "\n",
      "[1]. Add Item\n",
      "[2]. Calculate Total\n",
      "[3]. Apply Discount\n",
      "[4]. Display List\n"
     ]
    },
    {
     "ename": "KeyboardInterrupt",
     "evalue": "Interrupted by user",
     "output_type": "error",
     "traceback": [
      "\u001B[1;31m---------------------------------------------------------------------------\u001B[0m",
      "\u001B[1;31mKeyboardInterrupt\u001B[0m                         Traceback (most recent call last)",
      "Cell \u001B[1;32mIn[19], line 30\u001B[0m\n\u001B[0;32m     27\u001B[0m             display_shopping_list(shopping)\n\u001B[0;32m     29\u001B[0m \u001B[38;5;28;01mif\u001B[39;00m \u001B[38;5;18m__name__\u001B[39m \u001B[38;5;241m==\u001B[39m \u001B[38;5;124m'\u001B[39m\u001B[38;5;124m__main__\u001B[39m\u001B[38;5;124m'\u001B[39m:\n\u001B[1;32m---> 30\u001B[0m     \u001B[43mmain\u001B[49m\u001B[43m(\u001B[49m\u001B[43m)\u001B[49m\n",
      "Cell \u001B[1;32mIn[19], line 21\u001B[0m, in \u001B[0;36mmain\u001B[1;34m()\u001B[0m\n\u001B[0;32m     18\u001B[0m option \u001B[38;5;241m=\u001B[39m options()\n\u001B[0;32m     20\u001B[0m \u001B[38;5;28;01mif\u001B[39;00m option \u001B[38;5;241m==\u001B[39m \u001B[38;5;124m\"\u001B[39m\u001B[38;5;124mAdd Item\u001B[39m\u001B[38;5;124m\"\u001B[39m:\n\u001B[1;32m---> 21\u001B[0m     shopping \u001B[38;5;241m=\u001B[39m \u001B[43madd_item\u001B[49m\u001B[43m(\u001B[49m\u001B[43mshopping\u001B[49m\u001B[43m)\u001B[49m\n\u001B[0;32m     22\u001B[0m \u001B[38;5;28;01melif\u001B[39;00m option \u001B[38;5;241m==\u001B[39m \u001B[38;5;124m\"\u001B[39m\u001B[38;5;124mCalculate Total\u001B[39m\u001B[38;5;124m\"\u001B[39m:\n\u001B[0;32m     23\u001B[0m     total \u001B[38;5;241m=\u001B[39m calculate_total(shopping)\n",
      "Cell \u001B[1;32mIn[15], line 5\u001B[0m, in \u001B[0;36madd_item\u001B[1;34m(shopping_list)\u001B[0m\n\u001B[0;32m      2\u001B[0m \u001B[38;5;28;01mtry\u001B[39;00m:\n\u001B[0;32m      3\u001B[0m     existing_items \u001B[38;5;241m=\u001B[39m \u001B[38;5;28mlist\u001B[39m(shopping_list\u001B[38;5;241m.\u001B[39mkeys())\n\u001B[1;32m----> 5\u001B[0m     item_name \u001B[38;5;241m=\u001B[39m \u001B[38;5;28;43minput\u001B[39;49m\u001B[43m(\u001B[49m\u001B[38;5;124;43m\"\u001B[39;49m\u001B[38;5;124;43mEnter item\u001B[39;49m\u001B[38;5;124;43m'\u001B[39;49m\u001B[38;5;124;43ms name: \u001B[39;49m\u001B[38;5;124;43m\"\u001B[39;49m\u001B[43m)\u001B[49m\n\u001B[0;32m      6\u001B[0m     item_price \u001B[38;5;241m=\u001B[39m \u001B[38;5;28mfloat\u001B[39m(\u001B[38;5;28minput\u001B[39m(\u001B[38;5;124m\"\u001B[39m\u001B[38;5;124mEnter item\u001B[39m\u001B[38;5;124m'\u001B[39m\u001B[38;5;124ms price: \u001B[39m\u001B[38;5;124m\"\u001B[39m)) \n\u001B[0;32m      7\u001B[0m     item_count \u001B[38;5;241m=\u001B[39m \u001B[38;5;28mint\u001B[39m(\u001B[38;5;28minput\u001B[39m(\u001B[38;5;124m\"\u001B[39m\u001B[38;5;124mEnter number of items: \u001B[39m\u001B[38;5;124m\"\u001B[39m))\n",
      "File \u001B[1;32m~\\AppData\\Local\\Programs\\Python\\Python312\\Lib\\site-packages\\ipykernel\\kernelbase.py:1282\u001B[0m, in \u001B[0;36mKernel.raw_input\u001B[1;34m(self, prompt)\u001B[0m\n\u001B[0;32m   1280\u001B[0m     msg \u001B[38;5;241m=\u001B[39m \u001B[38;5;124m\"\u001B[39m\u001B[38;5;124mraw_input was called, but this frontend does not support input requests.\u001B[39m\u001B[38;5;124m\"\u001B[39m\n\u001B[0;32m   1281\u001B[0m     \u001B[38;5;28;01mraise\u001B[39;00m StdinNotImplementedError(msg)\n\u001B[1;32m-> 1282\u001B[0m \u001B[38;5;28;01mreturn\u001B[39;00m \u001B[38;5;28;43mself\u001B[39;49m\u001B[38;5;241;43m.\u001B[39;49m\u001B[43m_input_request\u001B[49m\u001B[43m(\u001B[49m\n\u001B[0;32m   1283\u001B[0m \u001B[43m    \u001B[49m\u001B[38;5;28;43mstr\u001B[39;49m\u001B[43m(\u001B[49m\u001B[43mprompt\u001B[49m\u001B[43m)\u001B[49m\u001B[43m,\u001B[49m\n\u001B[0;32m   1284\u001B[0m \u001B[43m    \u001B[49m\u001B[38;5;28;43mself\u001B[39;49m\u001B[38;5;241;43m.\u001B[39;49m\u001B[43m_parent_ident\u001B[49m\u001B[43m[\u001B[49m\u001B[38;5;124;43m\"\u001B[39;49m\u001B[38;5;124;43mshell\u001B[39;49m\u001B[38;5;124;43m\"\u001B[39;49m\u001B[43m]\u001B[49m\u001B[43m,\u001B[49m\n\u001B[0;32m   1285\u001B[0m \u001B[43m    \u001B[49m\u001B[38;5;28;43mself\u001B[39;49m\u001B[38;5;241;43m.\u001B[39;49m\u001B[43mget_parent\u001B[49m\u001B[43m(\u001B[49m\u001B[38;5;124;43m\"\u001B[39;49m\u001B[38;5;124;43mshell\u001B[39;49m\u001B[38;5;124;43m\"\u001B[39;49m\u001B[43m)\u001B[49m\u001B[43m,\u001B[49m\n\u001B[0;32m   1286\u001B[0m \u001B[43m    \u001B[49m\u001B[43mpassword\u001B[49m\u001B[38;5;241;43m=\u001B[39;49m\u001B[38;5;28;43;01mFalse\u001B[39;49;00m\u001B[43m,\u001B[49m\n\u001B[0;32m   1287\u001B[0m \u001B[43m\u001B[49m\u001B[43m)\u001B[49m\n",
      "File \u001B[1;32m~\\AppData\\Local\\Programs\\Python\\Python312\\Lib\\site-packages\\ipykernel\\kernelbase.py:1325\u001B[0m, in \u001B[0;36mKernel._input_request\u001B[1;34m(self, prompt, ident, parent, password)\u001B[0m\n\u001B[0;32m   1322\u001B[0m \u001B[38;5;28;01mexcept\u001B[39;00m \u001B[38;5;167;01mKeyboardInterrupt\u001B[39;00m:\n\u001B[0;32m   1323\u001B[0m     \u001B[38;5;66;03m# re-raise KeyboardInterrupt, to truncate traceback\u001B[39;00m\n\u001B[0;32m   1324\u001B[0m     msg \u001B[38;5;241m=\u001B[39m \u001B[38;5;124m\"\u001B[39m\u001B[38;5;124mInterrupted by user\u001B[39m\u001B[38;5;124m\"\u001B[39m\n\u001B[1;32m-> 1325\u001B[0m     \u001B[38;5;28;01mraise\u001B[39;00m \u001B[38;5;167;01mKeyboardInterrupt\u001B[39;00m(msg) \u001B[38;5;28;01mfrom\u001B[39;00m \u001B[38;5;28;01mNone\u001B[39;00m\n\u001B[0;32m   1326\u001B[0m \u001B[38;5;28;01mexcept\u001B[39;00m \u001B[38;5;167;01mException\u001B[39;00m:\n\u001B[0;32m   1327\u001B[0m     \u001B[38;5;28mself\u001B[39m\u001B[38;5;241m.\u001B[39mlog\u001B[38;5;241m.\u001B[39mwarning(\u001B[38;5;124m\"\u001B[39m\u001B[38;5;124mInvalid Message:\u001B[39m\u001B[38;5;124m\"\u001B[39m, exc_info\u001B[38;5;241m=\u001B[39m\u001B[38;5;28;01mTrue\u001B[39;00m)\n",
      "\u001B[1;31mKeyboardInterrupt\u001B[0m: Interrupted by user"
     ]
    }
   ],
   "execution_count": 19
  }
 ],
 "metadata": {
  "kernelspec": {
   "display_name": "Python 3",
   "language": "python",
   "name": "python3"
  },
  "language_info": {
   "codemirror_mode": {
    "name": "ipython",
    "version": 2
   },
   "file_extension": ".py",
   "mimetype": "text/x-python",
   "name": "python",
   "nbconvert_exporter": "python",
   "pygments_lexer": "ipython2",
   "version": "2.7.6"
  }
 },
 "nbformat": 4,
 "nbformat_minor": 5
}
