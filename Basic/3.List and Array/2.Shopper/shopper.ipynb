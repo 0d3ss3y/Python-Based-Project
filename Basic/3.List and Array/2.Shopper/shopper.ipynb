{
 "cells": [
  {
   "metadata": {},
   "cell_type": "code",
   "outputs": [],
   "execution_count": null,
   "source": [
    "def options():\n",
    "    \"\"\n",
    "    try:\n",
    "        option = [\"Add Item\", \"Calculate Total\", \"Apply Discount\"]\n",
    "        print(\"__Options__\\n\")\n",
    "        \n",
    "        for key,opt in enumerate(option,start=1):\n",
    "            print(f\"[{key}]. {opt}\")\n",
    "            \n",
    "        selection = int(input(\"Select an option: \"))\n",
    "        \n",
    "        if 0 > selection > len(option):\n",
    "            raise ValueError(\"Illegal selection\")\n",
    "        else:\n",
    "            return option[selection-1]\n",
    "        \n",
    "    except ValueError as error:\n",
    "        print(f\"Error 404 - Not Found: {error}\")\n",
    "    \n",
    "    "
   ],
   "id": "8cb96c64d5a719da"
  }
 ],
 "metadata": {
  "kernelspec": {
   "display_name": "Python 3",
   "language": "python",
   "name": "python3"
  },
  "language_info": {
   "codemirror_mode": {
    "name": "ipython",
    "version": 2
   },
   "file_extension": ".py",
   "mimetype": "text/x-python",
   "name": "python",
   "nbconvert_exporter": "python",
   "pygments_lexer": "ipython2",
   "version": "2.7.6"
  }
 },
 "nbformat": 4,
 "nbformat_minor": 5
}
