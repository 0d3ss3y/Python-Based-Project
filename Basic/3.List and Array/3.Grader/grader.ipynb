{
 "cells": [
  {
   "cell_type": "code",
   "execution_count": null,
   "id": "initial_id",
   "metadata": {
    "collapsed": true
   },
   "outputs": [],
   "source": [
    "import os\n",
    "import sys\n",
    "from time import sleep\n",
    "from typing import Dict, Union"
   ]
  },
  {
   "metadata": {},
   "cell_type": "code",
   "outputs": [],
   "execution_count": null,
   "source": [
    "def clear_terminal():\n",
    "    \"\"\"Clear the terminal screen.\"\"\"\n",
    "    os.system(\"cls\" if os.name == \"nt\" else \"clear\")"
   ],
   "id": "de0637b5b926197"
  },
  {
   "metadata": {},
   "cell_type": "code",
   "outputs": [],
   "execution_count": null,
   "source": [
    "def option() -> Union[str, None]:\n",
    "    \"\"\"Display menu options and return the user's choice.\"\"\"\n",
    "    try:\n",
    "        options = [\"Store Grades\", \"Display Grades\", \"Quit\"]\n",
    "        print(\"\\n__Options__\")\n",
    "        for key, opt in enumerate(options, start=1):\n",
    "            print(f\"[{key}] {opt}\")\n",
    "\n",
    "        selection = int(input(f\"Enter your selection [1-{len(options)}]: \"))\n",
    "        if 1 <= selection <= len(options):\n",
    "            return options[selection - 1]\n",
    "        else:\n",
    "            raise ValueError(\"Selection out of range.\")\n",
    "    except ValueError as error:\n",
    "        print(f\"Invalid input: {error}\")\n",
    "        return None"
   ],
   "id": "37b79fdafd534f75"
  },
  {
   "metadata": {},
   "cell_type": "markdown",
   "source": "",
   "id": "908edcaa78c04d0d"
  }
 ],
 "metadata": {
  "kernelspec": {
   "display_name": "Python 3",
   "language": "python",
   "name": "python3"
  },
  "language_info": {
   "codemirror_mode": {
    "name": "ipython",
    "version": 2
   },
   "file_extension": ".py",
   "mimetype": "text/x-python",
   "name": "python",
   "nbconvert_exporter": "python",
   "pygments_lexer": "ipython2",
   "version": "2.7.6"
  }
 },
 "nbformat": 4,
 "nbformat_minor": 5
}
