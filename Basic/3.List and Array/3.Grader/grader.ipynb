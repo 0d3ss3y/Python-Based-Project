{
 "cells": [
  {
   "cell_type": "code",
   "execution_count": null,
   "id": "initial_id",
   "metadata": {
    "collapsed": true
   },
   "outputs": [],
   "source": [
    "import os\n",
    "import sys\n",
    "from time import sleep\n",
    "from typing import Dict, Union"
   ]
  },
  {
   "metadata": {},
   "cell_type": "code",
   "outputs": [],
   "execution_count": null,
   "source": [
    "def clear_terminal():\n",
    "    \"\"\"Clear the terminal screen.\"\"\"\n",
    "    os.system(\"cls\" if os.name == \"nt\" else \"clear\")"
   ],
   "id": "de0637b5b926197"
  },
  {
   "metadata": {},
   "cell_type": "code",
   "outputs": [],
   "execution_count": null,
   "source": [
    "def option() -> Union[str, None]:\n",
    "    \"\"\"Display menu options and return the user's choice.\"\"\"\n",
    "    try:\n",
    "        options = [\"Store Grades\", \"Display Grades\", \"Quit\"]\n",
    "        print(\"\\n__Options__\")\n",
    "        for key, opt in enumerate(options, start=1):\n",
    "            print(f\"[{key}] {opt}\")\n",
    "\n",
    "        selection = int(input(f\"Enter your selection [1-{len(options)}]: \"))\n",
    "        if 1 <= selection <= len(options):\n",
    "            return options[selection - 1]\n",
    "        else:\n",
    "            raise ValueError(\"Selection out of range.\")\n",
    "    except ValueError as error:\n",
    "        print(f\"Invalid input: {error}\")\n",
    "        return None"
   ],
   "id": "37b79fdafd534f75"
  },
  {
   "metadata": {},
   "cell_type": "code",
   "outputs": [],
   "execution_count": null,
   "source": [
    "def display_grades(report_card: Dict[str, Dict[str, Union[float, str]]]):\n",
    "    \"\"\"Display the grades of all learners.\"\"\"\n",
    "    if not report_card:\n",
    "        print(\"No grades to display.\")\n",
    "        return\n",
    "\n",
    "    print(\"\\n__Report Cards__\")\n",
    "    for learner, grades in report_card.items():\n",
    "        print(f\"\\n{learner}'s Report Card:\")\n",
    "        for subject, grade in grades.items():\n",
    "            print(f\"  {subject}: {grade}\")"
   ],
   "id": "f07f9f8a34449f19"
  },
  {
   "metadata": {},
   "cell_type": "code",
   "outputs": [],
   "execution_count": null,
   "source": [
    "def store_grades(report_card: Dict[str, Dict[str, Union[float, str]]]) -> Dict:\n",
    "    \"\"\"Store grades for a new learner.\"\"\"\n",
    "    template = {\n",
    "        \"Math\": 0,\n",
    "        \"Science\": 0,\n",
    "        \"English\": 0,\n",
    "        \"History\": 0,\n",
    "        \"Programming\": 0,\n",
    "        \"Average\": 0,\n",
    "        \"Letter\": \"F\",\n",
    "    }\n",
    "    total = 0\n",
    "    subjects = [\"Math\", \"Science\", \"English\", \"History\", \"Programming\"]\n",
    "    learner_name = input(\"Enter learner name: \").strip().title()\n",
    "\n",
    "    if learner_name in report_card:\n",
    "        print(f\"{learner_name} already exists in the report card.\")\n",
    "        return report_card\n",
    "\n",
    "    try:\n",
    "        for subject in subjects:\n",
    "            percentage = float(input(f\"Enter percentage received for {subject}: \"))\n",
    "            if not (0 <= percentage <= 100):\n",
    "                raise ValueError(f\"Percentage for {subject} must be between 0 and 100.\")\n",
    "            template[subject] = percentage\n",
    "            total += percentage\n",
    "\n",
    "        avg = total / len(subjects)\n",
    "        letter = determine_level(avg)\n",
    "        template[\"Average\"] = avg\n",
    "        template[\"Letter\"] = letter\n",
    "        report_card[learner_name] = template\n",
    "        print(f\"{learner_name}'s grades have been added.\")\n",
    "    except ValueError as error:\n",
    "        print(f\"Invalid input: {error}\")\n",
    "\n",
    "    return report_card"
   ],
   "id": "82bbf539cff56fc3"
  }
 ],
 "metadata": {
  "kernelspec": {
   "display_name": "Python 3",
   "language": "python",
   "name": "python3"
  },
  "language_info": {
   "codemirror_mode": {
    "name": "ipython",
    "version": 2
   },
   "file_extension": ".py",
   "mimetype": "text/x-python",
   "name": "python",
   "nbconvert_exporter": "python",
   "pygments_lexer": "ipython2",
   "version": "2.7.6"
  }
 },
 "nbformat": 4,
 "nbformat_minor": 5
}
