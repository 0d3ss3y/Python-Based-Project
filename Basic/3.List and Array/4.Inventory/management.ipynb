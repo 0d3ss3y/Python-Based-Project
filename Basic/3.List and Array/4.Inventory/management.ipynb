{
 "cells": [
  {
   "cell_type": "code",
   "id": "initial_id",
   "metadata": {
    "collapsed": true,
    "ExecuteTime": {
     "end_time": "2025-01-16T14:54:35.140001Z",
     "start_time": "2025-01-16T14:54:35.128845Z"
    }
   },
   "source": [
    "import os\n",
    "\n",
    "from jedi.inference.base_value import Value\n",
    "\n",
    "inventory = {\n",
    "    \"Category\" : {\n",
    "        \"item Name\" :{\n",
    "            \"Max Capacity\" : 100,\n",
    "            \"Current Capacity\" : 100,\n",
    "        }        \n",
    "    }\n",
    "}"
   ],
   "outputs": [],
   "execution_count": 1
  },
  {
   "metadata": {},
   "cell_type": "code",
   "outputs": [],
   "execution_count": null,
   "source": [
    "def clear_terminal():\n",
    "    return os.system(\"cls\" if os.name == \"nt\" else \"clear\")"
   ],
   "id": "addb5e31bce91ecc"
  },
  {
   "metadata": {
    "ExecuteTime": {
     "end_time": "2025-01-16T14:55:29.780827Z",
     "start_time": "2025-01-16T14:55:29.769322Z"
    }
   },
   "cell_type": "code",
   "source": [
    "def full_inventory(inventory):\n",
    "    print(\"__Inventory Check__\\n\")\n",
    "    for category,tory in inventory.items():\n",
    "        print(f\"{category.capitalize()}:\")\n",
    "        for item,info in tory.items():\n",
    "            print(f\" {item}: {info}\")\n",
    "        print()"
   ],
   "id": "974cdd16a3fccd8",
   "outputs": [],
   "execution_count": 2
  },
  {
   "metadata": {
    "ExecuteTime": {
     "end_time": "2025-01-16T15:06:39.205806Z",
     "start_time": "2025-01-16T15:06:39.013299Z"
    }
   },
   "cell_type": "code",
   "source": [
    "def track_item(inventory):\n",
    "    try:\n",
    "        selection = input(\"Item you wanna track? \")\n",
    "        \n",
    "        for category,tory in inventory.items():\n",
    "            headers = list(tory.keys())\n",
    "            \n",
    "            if selection in headers:\n",
    "                for item,info in tory[selection].items():\n",
    "                    print(f\"{item}: {info}\")\n",
    "            else:\n",
    "                print(f\"{selection} unavailable\")\n",
    "        \n",
    "    except ValueError as error:\n",
    "        print(f\"Error 404 - Not Found: {error}\")"
   ],
   "id": "f521fd122c94e5c7",
   "outputs": [],
   "execution_count": 3
  },
  {
   "metadata": {},
   "cell_type": "code",
   "outputs": [],
   "execution_count": null,
   "source": [
    "def stock_check(inventory):\n",
    "    print(\"__Checking Low Inventory__\\n\")\n",
    "    low_stock = 0.3\n",
    "    for category,tory in inventory.items():\n",
    "        max_cap = tory[\"max capacity\"]\n",
    "        current_cap = tory[\"current capacity\"]\n",
    "        low_count = round(max_cap * low_stock)\n",
    "        \n",
    "        if current_cap <= low_count:\n",
    "            print(f\"{tory}'s stock is low\")"
   ],
   "id": "980a5461a25e7570"
  },
  {
   "metadata": {},
   "cell_type": "code",
   "outputs": [],
   "execution_count": null,
   "source": [
    "def adding_stock(inventory):\n",
    "    try:\n",
    "        refilling_item = input(\"Item you wanna refill? \")\n",
    "        \n",
    "        for category,tory in inventory.items():\n",
    "            for item,info in tory.items():\n",
    "                if refilling_item == item:\n",
    "                    max_cap = tory[\"max capacity\"]\n",
    "                    current_cap = tory[\"current capacity\"]\n",
    "                    difference = max_cap - current_cap\n",
    "                    \n",
    "                    if difference == 0:\n",
    "                        print(f\"{tory}'s stock is full\")\n",
    "                        return inventory\n",
    "                    else:\n",
    "                        print(f\"Refill amount needed to reach capacity: {difference}\")\n",
    "                        refill_amount = int(input(\"Enter amount to refill: \"))\n",
    "                        tory[\"current capacity\"] += refill_amount\n",
    "                        return inventory\n",
    "                else:\n",
    "                    raise ValueError(f\"Item {item} is not available\")\n",
    "                \n",
    "        \n",
    "    except (ValueError, TypeError) as error:\n",
    "        print(f\"Error 404 - Not Found: {error}\")\n",
    "        return inventory"
   ],
   "id": "ebf60ed8fa28d3a4"
  }
 ],
 "metadata": {
  "kernelspec": {
   "display_name": "Python 3",
   "language": "python",
   "name": "python3"
  },
  "language_info": {
   "codemirror_mode": {
    "name": "ipython",
    "version": 2
   },
   "file_extension": ".py",
   "mimetype": "text/x-python",
   "name": "python",
   "nbconvert_exporter": "python",
   "pygments_lexer": "ipython2",
   "version": "2.7.6"
  }
 },
 "nbformat": 4,
 "nbformat_minor": 5
}
