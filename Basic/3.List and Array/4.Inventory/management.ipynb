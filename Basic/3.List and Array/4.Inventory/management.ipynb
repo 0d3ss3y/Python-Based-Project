{
 "cells": [
  {
   "cell_type": "code",
   "id": "initial_id",
   "metadata": {
    "collapsed": true,
    "ExecuteTime": {
     "end_time": "2025-01-16T14:54:35.140001Z",
     "start_time": "2025-01-16T14:54:35.128845Z"
    }
   },
   "source": [
    "inventory = {\n",
    "    \"Category\" : {\n",
    "        \"item Name\" :{\n",
    "            \"Max Capacity\" : 100,\n",
    "            \"Current Capacity\" : 100,\n",
    "        }        \n",
    "    }\n",
    "}"
   ],
   "outputs": [],
   "execution_count": 1
  },
  {
   "metadata": {
    "ExecuteTime": {
     "end_time": "2025-01-16T14:55:29.780827Z",
     "start_time": "2025-01-16T14:55:29.769322Z"
    }
   },
   "cell_type": "code",
   "source": [
    "def full_inventory(inventory):\n",
    "    print(\"__Inventory Check__\\n\")\n",
    "    for category,tory in inventory.items():\n",
    "        print(f\"{category.capitalize()}:\")\n",
    "        for item,info in tory.items():\n",
    "            print(f\" {item}: {info}\")\n",
    "        print()"
   ],
   "id": "974cdd16a3fccd8",
   "outputs": [],
   "execution_count": 2
  },
  {
   "metadata": {},
   "cell_type": "code",
   "outputs": [],
   "execution_count": null,
   "source": "",
   "id": "f521fd122c94e5c7"
  }
 ],
 "metadata": {
  "kernelspec": {
   "display_name": "Python 3",
   "language": "python",
   "name": "python3"
  },
  "language_info": {
   "codemirror_mode": {
    "name": "ipython",
    "version": 2
   },
   "file_extension": ".py",
   "mimetype": "text/x-python",
   "name": "python",
   "nbconvert_exporter": "python",
   "pygments_lexer": "ipython2",
   "version": "2.7.6"
  }
 },
 "nbformat": 4,
 "nbformat_minor": 5
}
