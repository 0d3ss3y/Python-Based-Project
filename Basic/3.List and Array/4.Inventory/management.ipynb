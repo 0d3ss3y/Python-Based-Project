{
 "cells": [
  {
   "cell_type": "code",
   "id": "initial_id",
   "metadata": {
    "collapsed": true,
    "ExecuteTime": {
     "end_time": "2025-01-16T15:38:52.330477Z",
     "start_time": "2025-01-16T15:38:52.267881Z"
    }
   },
   "source": [
    "import os\n",
    "from time import sleep\n",
    "import sys\n",
    "from typing import Union\n",
    "\n",
    "inventory = {\n",
    "    \"Category\" : {\n",
    "        \"item Name\" :{\n",
    "            \"Max Capacity\" : 100,\n",
    "            \"Current Capacity\" : 100,\n",
    "        }        \n",
    "    }\n",
    "}"
   ],
   "outputs": [],
   "execution_count": 4
  },
  {
   "metadata": {
    "ExecuteTime": {
     "end_time": "2025-01-16T15:38:52.533133Z",
     "start_time": "2025-01-16T15:38:52.514757Z"
    }
   },
   "cell_type": "code",
   "source": [
    "def clear_terminal():\n",
    "    return os.system(\"cls\" if os.name == \"nt\" else \"clear\")"
   ],
   "id": "addb5e31bce91ecc",
   "outputs": [],
   "execution_count": 5
  },
  {
   "metadata": {},
   "cell_type": "code",
   "outputs": [],
   "execution_count": null,
   "source": [
    "def option() -> Union[str, None]:\n",
    "    try:\n",
    "        options = [\"Track Item\",\"Check Inventory\",\"Stock Check\",\"Add Stock\",\"Pull Stock\",\"Quit\"]\n",
    "        print(\"\\n__Options__\")\n",
    "        for key, opt in enumerate(options, start=1):\n",
    "            print(f\"[{key}] {opt}\")\n",
    "\n",
    "        selection = int(input(f\"Enter your selection [1-{len(options)}]: \"))\n",
    "        if 1 <= selection <= len(options):\n",
    "            return options[selection - 1]\n",
    "        else:\n",
    "            raise ValueError(\"Selection out of range.\")\n",
    "    except ValueError as error:\n",
    "        print(f\"Invalid input: {error}\")\n",
    "        return None"
   ],
   "id": "497c4adc77b0e757"
  },
  {
   "metadata": {
    "ExecuteTime": {
     "end_time": "2025-01-16T15:38:52.594945Z",
     "start_time": "2025-01-16T15:38:52.583991Z"
    }
   },
   "cell_type": "code",
   "source": [
    "def full_inventory(inventory):\n",
    "    print(\"__Inventory Check__\\n\")\n",
    "    for category,tory in inventory.items():\n",
    "        print(f\"{category.capitalize()}:\")\n",
    "        for item,info in tory.items():\n",
    "            print(f\" {item}: {info}\")\n",
    "        print()"
   ],
   "id": "974cdd16a3fccd8",
   "outputs": [],
   "execution_count": 6
  },
  {
   "metadata": {
    "ExecuteTime": {
     "end_time": "2025-01-16T15:38:52.623656Z",
     "start_time": "2025-01-16T15:38:52.608996Z"
    }
   },
   "cell_type": "code",
   "source": [
    "def track_item(inventory):\n",
    "    try:\n",
    "        selection = input(\"Item you wanna track? \")\n",
    "        \n",
    "        for category,tory in inventory.items():\n",
    "            headers = list(tory.keys())\n",
    "            \n",
    "            if selection in headers:\n",
    "                for item,info in tory[selection].items():\n",
    "                    print(f\"{item}: {info}\")\n",
    "            else:\n",
    "                print(f\"{selection} unavailable\")\n",
    "        \n",
    "    except ValueError as error:\n",
    "        print(f\"Error 404 - Not Found: {error}\")"
   ],
   "id": "f521fd122c94e5c7",
   "outputs": [],
   "execution_count": 7
  },
  {
   "metadata": {
    "ExecuteTime": {
     "end_time": "2025-01-16T15:38:52.785273Z",
     "start_time": "2025-01-16T15:38:52.776563Z"
    }
   },
   "cell_type": "code",
   "source": [
    "def stock_check(inventory):\n",
    "    print(\"__Checking Low Inventory__\\n\")\n",
    "    low_stock = 0.3\n",
    "    for category,tory in inventory.items():\n",
    "        max_cap = tory[\"max capacity\"]\n",
    "        current_cap = tory[\"current capacity\"]\n",
    "        low_count = round(max_cap * low_stock)\n",
    "        \n",
    "        if current_cap <= low_count:\n",
    "            print(f\"{tory}'s stock is low\")"
   ],
   "id": "980a5461a25e7570",
   "outputs": [],
   "execution_count": 8
  },
  {
   "metadata": {
    "ExecuteTime": {
     "end_time": "2025-01-16T15:38:52.839185Z",
     "start_time": "2025-01-16T15:38:52.822801Z"
    }
   },
   "cell_type": "code",
   "source": [
    "def adding_stock(inventory):\n",
    "    try:\n",
    "        refilling_item = input(\"Item you wanna refill? \")\n",
    "        \n",
    "        for category,tory in inventory.items():\n",
    "            for item,info in tory.items():\n",
    "                if refilling_item == item:\n",
    "                    max_cap = tory[\"max capacity\"]\n",
    "                    current_cap = tory[\"current capacity\"]\n",
    "                    difference = max_cap - current_cap\n",
    "                    \n",
    "                    if difference == 0:\n",
    "                        print(f\"{tory}'s stock is full\")\n",
    "                        return inventory\n",
    "                    else:\n",
    "                        print(f\"Refill amount needed to reach capacity: {difference}\")\n",
    "                        refill_amount = int(input(\"Enter amount to refill: \"))\n",
    "                        tory[\"current capacity\"] += refill_amount\n",
    "                        return inventory\n",
    "                else:\n",
    "                    raise ValueError(f\"Item {item} is not available\")\n",
    "                \n",
    "        \n",
    "    except (ValueError, TypeError) as error:\n",
    "        print(f\"Error 404 - Not Found: {error}\")\n",
    "        return inventory"
   ],
   "id": "ebf60ed8fa28d3a4",
   "outputs": [],
   "execution_count": 9
  },
  {
   "metadata": {},
   "cell_type": "code",
   "outputs": [],
   "execution_count": null,
   "source": [
    "def remove_stock(inventory):\n",
    "    try:\n",
    "        selection = input(\"Item you wanna pull? \")\n",
    "        \n",
    "        for category,tory in inventory.items():\n",
    "            for item,info in tory.items():\n",
    "                if selection == item:\n",
    "                    current_cap = tory[\"current capacity\"]\n",
    "                    \n",
    "                    if current_cap == 0:\n",
    "                        print(f\"{tory}'s stock is empty, needs refilling\")\n",
    "                        return inventory\n",
    "                    else:\n",
    "                        print(f\"Pulling {tory} from stock\")\n",
    "                        pulling = int(input(\"How many items do you want to pull? : \"))\n",
    "                        tory[\"current capacity\"] -= pulling\n",
    "                        return inventory\n",
    "                    \n",
    "                else:\n",
    "                    raise ValueError(f\"Item {item} is not available\")\n",
    "                \n",
    "        \n",
    "    except (ValueError, TypeError) as error:\n",
    "        print(f\"Error 404 - Not Found: {error}\")\n",
    "        return inventory"
   ],
   "id": "8ecdbffbac7358a6"
  },
  {
   "metadata": {},
   "cell_type": "code",
   "outputs": [],
   "execution_count": null,
   "source": [
    "def main():\n",
    "    \"\"\"Main function to run the grade system.\"\"\"\n",
    "    try:\n",
    "        global inventory\n",
    "        print(\"__Inventory Management__\\n\")\n",
    "        while True:\n",
    "            selection = option()\n",
    "            \n",
    "            if selection == \"Track Item\":\n",
    "                inventory = track_item(inventory)\n",
    "            elif selection == \"Check Inventory\":\n",
    "                full_inventory(inventory)\n",
    "            elif selection == \"Stock Check\":\n",
    "                stock_check(inventory)\n",
    "            elif selection == \"Add Stock\":\n",
    "                inventory = adding_stock(inventory)\n",
    "            elif selection == \"Pull Stock\":\n",
    "                inventory = remove_stock(inventory)\n",
    "            elif selection == \"Quit\":\n",
    "                print(\"Exiting the Grade System. Goodbye!\")\n",
    "                break\n",
    "            else:\n",
    "                print(\"Invalid option. Please try again.\")\n",
    "                \n",
    "                \n",
    "            sleep(1)\n",
    "            clear_terminal()\n",
    "\n",
    "            sleep(1)\n",
    "            clear_terminal()\n",
    "\n",
    "    except (SystemExit, KeyboardInterrupt):\n",
    "        print(\"Exiting the Management System. Goodbye!\")\n",
    "        sys.exit(0)\n",
    "\n",
    "\n",
    "if __name__ == \"__main__\":\n",
    "    main()"
   ],
   "id": "bebb98c59e325776"
  }
 ],
 "metadata": {
  "kernelspec": {
   "display_name": "Python 3",
   "language": "python",
   "name": "python3"
  },
  "language_info": {
   "codemirror_mode": {
    "name": "ipython",
    "version": 2
   },
   "file_extension": ".py",
   "mimetype": "text/x-python",
   "name": "python",
   "nbconvert_exporter": "python",
   "pygments_lexer": "ipython2",
   "version": "2.7.6"
  }
 },
 "nbformat": 4,
 "nbformat_minor": 5
}
